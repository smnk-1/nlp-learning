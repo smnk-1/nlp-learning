{
 "cells": [
  {
   "cell_type": "code",
   "execution_count": 43,
   "id": "7c5cbe45",
   "metadata": {},
   "outputs": [
    {
     "data": {
      "text/plain": [
       "'2.8.0+cu126'"
      ]
     },
     "execution_count": 43,
     "metadata": {},
     "output_type": "execute_result"
    }
   ],
   "source": [
    "import torch\n",
    "import pandas as pd\n",
    "\n",
    "torch.__version__"
   ]
  },
  {
   "cell_type": "code",
   "execution_count": 44,
   "id": "4457f816",
   "metadata": {},
   "outputs": [
    {
     "name": "stdout",
     "output_type": "stream",
     "text": [
      "Using cuda device\n"
     ]
    }
   ],
   "source": [
    "device = torch.accelerator.current_accelerator().type if torch.accelerator.is_available() else \"cpu\"\n",
    "print(f\"Using {device} device\")"
   ]
  },
  {
   "cell_type": "code",
   "execution_count": 45,
   "id": "d658a09f",
   "metadata": {},
   "outputs": [],
   "source": [
    "from sklearn.model_selection import train_test_split"
   ]
  },
  {
   "cell_type": "code",
   "execution_count": 46,
   "id": "77dec5d6",
   "metadata": {},
   "outputs": [],
   "source": [
    "device = 'cpu'"
   ]
  },
  {
   "cell_type": "code",
   "execution_count": 47,
   "id": "9ccf6b78",
   "metadata": {},
   "outputs": [
    {
     "data": {
      "text/html": [
       "<div>\n",
       "<style scoped>\n",
       "    .dataframe tbody tr th:only-of-type {\n",
       "        vertical-align: middle;\n",
       "    }\n",
       "\n",
       "    .dataframe tbody tr th {\n",
       "        vertical-align: top;\n",
       "    }\n",
       "\n",
       "    .dataframe thead th {\n",
       "        text-align: right;\n",
       "    }\n",
       "</style>\n",
       "<table border=\"1\" class=\"dataframe\">\n",
       "  <thead>\n",
       "    <tr style=\"text-align: right;\">\n",
       "      <th></th>\n",
       "      <th>Temperature[C]</th>\n",
       "      <th>Humidity[%]</th>\n",
       "      <th>TVOC[ppb]</th>\n",
       "      <th>eCO2[ppm]</th>\n",
       "      <th>Raw H2</th>\n",
       "      <th>Raw Ethanol</th>\n",
       "      <th>Pressure[hPa]</th>\n",
       "      <th>NC2.5</th>\n",
       "      <th>Fire Alarm</th>\n",
       "      <th>IsItDay?</th>\n",
       "      <th>Weekday_0</th>\n",
       "      <th>Weekday_1</th>\n",
       "      <th>Weekday_2</th>\n",
       "    </tr>\n",
       "  </thead>\n",
       "  <tbody>\n",
       "    <tr>\n",
       "      <th>0</th>\n",
       "      <td>27.041</td>\n",
       "      <td>49.80</td>\n",
       "      <td>19.0</td>\n",
       "      <td>400.0</td>\n",
       "      <td>13059.0</td>\n",
       "      <td>19951</td>\n",
       "      <td>939.777</td>\n",
       "      <td>0.011</td>\n",
       "      <td>0</td>\n",
       "      <td>0</td>\n",
       "      <td>0</td>\n",
       "      <td>0</td>\n",
       "      <td>1</td>\n",
       "    </tr>\n",
       "    <tr>\n",
       "      <th>1</th>\n",
       "      <td>26.987</td>\n",
       "      <td>54.26</td>\n",
       "      <td>1.0</td>\n",
       "      <td>400.0</td>\n",
       "      <td>13078.0</td>\n",
       "      <td>19975</td>\n",
       "      <td>939.765</td>\n",
       "      <td>0.011</td>\n",
       "      <td>0</td>\n",
       "      <td>0</td>\n",
       "      <td>0</td>\n",
       "      <td>0</td>\n",
       "      <td>1</td>\n",
       "    </tr>\n",
       "    <tr>\n",
       "      <th>2</th>\n",
       "      <td>26.985</td>\n",
       "      <td>53.66</td>\n",
       "      <td>10.0</td>\n",
       "      <td>400.0</td>\n",
       "      <td>13068.0</td>\n",
       "      <td>19955</td>\n",
       "      <td>939.768</td>\n",
       "      <td>0.011</td>\n",
       "      <td>0</td>\n",
       "      <td>0</td>\n",
       "      <td>0</td>\n",
       "      <td>0</td>\n",
       "      <td>1</td>\n",
       "    </tr>\n",
       "    <tr>\n",
       "      <th>3</th>\n",
       "      <td>26.983</td>\n",
       "      <td>53.07</td>\n",
       "      <td>10.0</td>\n",
       "      <td>400.0</td>\n",
       "      <td>13069.0</td>\n",
       "      <td>19963</td>\n",
       "      <td>939.775</td>\n",
       "      <td>0.013</td>\n",
       "      <td>0</td>\n",
       "      <td>0</td>\n",
       "      <td>0</td>\n",
       "      <td>0</td>\n",
       "      <td>1</td>\n",
       "    </tr>\n",
       "    <tr>\n",
       "      <th>4</th>\n",
       "      <td>26.982</td>\n",
       "      <td>52.57</td>\n",
       "      <td>13.0</td>\n",
       "      <td>400.0</td>\n",
       "      <td>13072.0</td>\n",
       "      <td>19958</td>\n",
       "      <td>939.770</td>\n",
       "      <td>0.013</td>\n",
       "      <td>0</td>\n",
       "      <td>0</td>\n",
       "      <td>0</td>\n",
       "      <td>0</td>\n",
       "      <td>1</td>\n",
       "    </tr>\n",
       "  </tbody>\n",
       "</table>\n",
       "</div>"
      ],
      "text/plain": [
       "   Temperature[C]  Humidity[%]  TVOC[ppb]  eCO2[ppm]   Raw H2  Raw Ethanol  \\\n",
       "0          27.041        49.80       19.0      400.0  13059.0        19951   \n",
       "1          26.987        54.26        1.0      400.0  13078.0        19975   \n",
       "2          26.985        53.66       10.0      400.0  13068.0        19955   \n",
       "3          26.983        53.07       10.0      400.0  13069.0        19963   \n",
       "4          26.982        52.57       13.0      400.0  13072.0        19958   \n",
       "\n",
       "   Pressure[hPa]  NC2.5  Fire Alarm  IsItDay?  Weekday_0  Weekday_1  Weekday_2  \n",
       "0        939.777  0.011           0         0          0          0          1  \n",
       "1        939.765  0.011           0         0          0          0          1  \n",
       "2        939.768  0.011           0         0          0          0          1  \n",
       "3        939.775  0.013           0         0          0          0          1  \n",
       "4        939.770  0.013           0         0          0          0          1  "
      ]
     },
     "execution_count": 47,
     "metadata": {},
     "output_type": "execute_result"
    }
   ],
   "source": [
    "data = pd.read_csv('data/processed_smoke_detector.csv')\n",
    "data.head()"
   ]
  },
  {
   "cell_type": "code",
   "execution_count": 48,
   "id": "dc473d24",
   "metadata": {},
   "outputs": [
    {
     "data": {
      "text/plain": [
       "((41247, 12), (41247,))"
      ]
     },
     "execution_count": 48,
     "metadata": {},
     "output_type": "execute_result"
    }
   ],
   "source": [
    "y, X = data['Fire Alarm'].values, data.drop(columns=['Fire Alarm']).values\n",
    "#y = y.reshape(-1, 1)\n",
    "X.shape, y.shape"
   ]
  },
  {
   "cell_type": "code",
   "execution_count": 49,
   "id": "00a71a0c",
   "metadata": {},
   "outputs": [
    {
     "data": {
      "text/plain": [
       "((32997, 12), (8250, 12), (32997,), (8250,))"
      ]
     },
     "execution_count": 49,
     "metadata": {},
     "output_type": "execute_result"
    }
   ],
   "source": [
    "X_train, X_test, y_train, y_test = train_test_split(X, y, test_size=0.2)\n",
    "X_train.shape, X_test.shape, y_train.shape, y_test.shape"
   ]
  },
  {
   "cell_type": "code",
   "execution_count": 50,
   "id": "ef20da0c",
   "metadata": {},
   "outputs": [],
   "source": [
    "from torch.utils.data import TensorDataset, DataLoader"
   ]
  },
  {
   "cell_type": "code",
   "execution_count": 51,
   "id": "007c9c4c",
   "metadata": {},
   "outputs": [],
   "source": [
    "train_ds = TensorDataset(torch.from_numpy(X_train).type(torch.float32), torch.from_numpy(y_train).type(torch.long))\n",
    "\n",
    "train_dl = DataLoader(train_ds, batch_size=64, shuffle=True)\n",
    "\n",
    "test_ds = TensorDataset(torch.from_numpy(X_test), torch.from_numpy(y_test))\n",
    "\n",
    "test_dl = DataLoader(test_ds, batch_size=64, shuffle=True)"
   ]
  },
  {
   "cell_type": "markdown",
   "id": "ff9b4973",
   "metadata": {},
   "source": [
    "# Creating FCNN Classification model"
   ]
  },
  {
   "cell_type": "code",
   "execution_count": 52,
   "id": "332ead40",
   "metadata": {},
   "outputs": [],
   "source": [
    "import torch\n",
    "import torch.nn as nn\n",
    "import torch.optim as optim"
   ]
  },
  {
   "cell_type": "code",
   "execution_count": null,
   "id": "2d857319",
   "metadata": {},
   "outputs": [],
   "source": [
    "class ClassificationNet(nn.Module):\n",
    "    def __init__(self):\n",
    "        super(ClassificationNet, self).__init__()\n",
    "        self.fc1 = nn.Linear(12, 64)\n",
    "        self.fc2 = nn.Linear(64, 2)\n",
    "        # softmax is not used as CrossEntropyLoss combines CrossEntropyLossnn.LogSoftmax() and nn.NLLLoss() in one class\n",
    "\n",
    "    def forward(self, x):\n",
    "        x = nn.functional.relu(self.fc1(x))\n",
    "        return self.fc2(x)"
   ]
  },
  {
   "cell_type": "code",
   "execution_count": null,
   "id": "c5eac58b",
   "metadata": {},
   "outputs": [],
   "source": [
    "model = ClassificationNet().to(device)\n",
    "class_weights = torch.tensor([1.2, 1.0]).to(device) # weights for classes for FN -> min\n",
    "loss_function = nn.CrossEntropyLoss(weight=class_weights).to(device)\n",
    "learning_rate = 0.00001\n",
    "optimizer = optim.Adam(model.parameters(), lr=learning_rate)"
   ]
  },
  {
   "cell_type": "code",
   "execution_count": 55,
   "id": "1395fddb",
   "metadata": {},
   "outputs": [],
   "source": [
    "num_epochs = 20\n",
    "epoch_loss = []\n",
    "for epoch in range(num_epochs):\n",
    "    model.train()\n",
    "    for batch_x, batch_y in train_dl:\n",
    "        batch_x = batch_x.to(device)\n",
    "        batch_y = batch_y.to(device)\n",
    "        optimizer.zero_grad()\n",
    "        outputs = model(batch_x)\n",
    "        loss = loss_function(outputs, batch_y)\n",
    "        loss.backward()\n",
    "        optimizer.step()\n",
    "\n",
    "    #print(f'Epoch [{epoch+1}/{num_epochs}], Loss: {loss.item():.4f}')\n",
    "    epoch_loss.append(loss.item())"
   ]
  },
  {
   "cell_type": "code",
   "execution_count": 56,
   "id": "9a4617c2",
   "metadata": {},
   "outputs": [],
   "source": [
    "import matplotlib.pyplot as plt"
   ]
  },
  {
   "cell_type": "code",
   "execution_count": 57,
   "id": "0760c615",
   "metadata": {},
   "outputs": [
    {
     "data": {
      "text/plain": [
       "[47.77039337158203,\n",
       " 8.363259315490723,\n",
       " 5.029675006866455,\n",
       " 2.142673969268799,\n",
       " 0.7776015996932983,\n",
       " 0.4023357927799225,\n",
       " 0.2248159945011139,\n",
       " 0.31961384415626526,\n",
       " 0.16958923637866974,\n",
       " 0.08603451400995255,\n",
       " 0.03261671960353851,\n",
       " 0.03867446631193161,\n",
       " 0.07077895849943161,\n",
       " 0.08796343952417374,\n",
       " 0.028563151136040688,\n",
       " 0.19600854814052582,\n",
       " 0.05352063104510307,\n",
       " 0.17677411437034607,\n",
       " 0.16503150761127472,\n",
       " 0.15130089223384857]"
      ]
     },
     "execution_count": 57,
     "metadata": {},
     "output_type": "execute_result"
    }
   ],
   "source": [
    "epoch_loss"
   ]
  },
  {
   "cell_type": "code",
   "execution_count": 59,
   "id": "e3ac415a",
   "metadata": {},
   "outputs": [
    {
     "data": {
      "text/plain": [
       "[<matplotlib.lines.Line2D at 0x226c699efc0>]"
      ]
     },
     "execution_count": 59,
     "metadata": {},
     "output_type": "execute_result"
    },
    {
     "data": {
      "image/png": "[encoded data removed]",
      "text/plain": [
       "<Figure size 640x480 with 1 Axes>"
      ]
     },
     "metadata": {},
     "output_type": "display_data"
    }
   ],
   "source": [
    "plt.plot(epoch_loss)"
   ]
  },
  {
   "cell_type": "code",
   "execution_count": 61,
   "id": "bfa82ef4",
   "metadata": {},
   "outputs": [],
   "source": [
    "model.eval()\n",
    "with torch.no_grad():\n",
    "    outputs = model(torch.from_numpy(X_test).float())\n",
    "    _, predicted_classes = torch.max(outputs, 1)\n",
    "\n",
    "predicted_classes_np = predicted_classes.numpy()"
   ]
  },
  {
   "cell_type": "code",
   "execution_count": 62,
   "id": "e21a79e4",
   "metadata": {},
   "outputs": [
    {
     "name": "stdout",
     "output_type": "stream",
     "text": [
      "Classification Report:\n",
      "\n",
      "              precision    recall  f1-score   support\n",
      "\n",
      "     Class 0       0.92      0.88      0.90      1819\n",
      "     Class 1       0.97      0.98      0.97      6431\n",
      "\n",
      "    accuracy                           0.96      8250\n",
      "   macro avg       0.94      0.93      0.93      8250\n",
      "weighted avg       0.95      0.96      0.96      8250\n",
      "\n",
      "\n",
      "Confusion Matrix:\n",
      "\n",
      "[[1597  222]\n",
      " [ 146 6285]]\n"
     ]
    }
   ],
   "source": [
    "from sklearn.metrics import confusion_matrix, classification_report\n",
    "\n",
    "print(\"Classification Report:\\n\")\n",
    "report = classification_report(y_test, predicted_classes_np, target_names=['Class 0', 'Class 1'])\n",
    "print(report)\n",
    "\n",
    "print(\"\\nConfusion Matrix:\\n\")\n",
    "cm = confusion_matrix(y_test, predicted_classes_np)\n",
    "print(cm)"
   ]
  }
 ],
 "metadata": {
  "kernelspec": {
   "display_name": "venv",
   "language": "python",
   "name": "python3"
  },
  "language_info": {
   "codemirror_mode": {
    "name": "ipython",
    "version": 3
   },
   "file_extension": ".py",
   "mimetype": "text/x-python",
   "name": "python",
   "nbconvert_exporter": "python",
   "pygments_lexer": "ipython3",
   "version": "3.12.10"
  }
 },
 "nbformat": 4,
 "nbformat_minor": 5
}
