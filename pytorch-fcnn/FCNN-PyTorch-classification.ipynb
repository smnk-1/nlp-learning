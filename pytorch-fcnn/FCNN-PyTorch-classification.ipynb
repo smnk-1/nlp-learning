{
 "cells": [
  {
   "cell_type": "code",
   "execution_count": 201,
   "id": "7c5cbe45",
   "metadata": {},
   "outputs": [
    {
     "data": {
      "text/plain": [
       "'2.8.0+cu126'"
      ]
     },
     "execution_count": 201,
     "metadata": {},
     "output_type": "execute_result"
    }
   ],
   "source": [
    "import torch\n",
    "import pandas as pd\n",
    "\n",
    "torch.__version__"
   ]
  },
  {
   "cell_type": "code",
   "execution_count": 202,
   "id": "4457f816",
   "metadata": {},
   "outputs": [
    {
     "name": "stdout",
     "output_type": "stream",
     "text": [
      "Using cuda device\n"
     ]
    }
   ],
   "source": [
    "device = torch.accelerator.current_accelerator().type if torch.accelerator.is_available() else \"cpu\"\n",
    "print(f\"Using {device} device\")"
   ]
  },
  {
   "cell_type": "code",
   "execution_count": 203,
   "id": "d658a09f",
   "metadata": {},
   "outputs": [],
   "source": [
    "from sklearn.model_selection import train_test_split"
   ]
  },
  {
   "cell_type": "code",
   "execution_count": 204,
   "id": "77dec5d6",
   "metadata": {},
   "outputs": [],
   "source": [
    "device = 'cpu'"
   ]
  },
  {
   "cell_type": "code",
   "execution_count": 205,
   "id": "9ccf6b78",
   "metadata": {},
   "outputs": [
    {
     "data": {
      "text/html": [
       "<div>\n",
       "<style scoped>\n",
       "    .dataframe tbody tr th:only-of-type {\n",
       "        vertical-align: middle;\n",
       "    }\n",
       "\n",
       "    .dataframe tbody tr th {\n",
       "        vertical-align: top;\n",
       "    }\n",
       "\n",
       "    .dataframe thead th {\n",
       "        text-align: right;\n",
       "    }\n",
       "</style>\n",
       "<table border=\"1\" class=\"dataframe\">\n",
       "  <thead>\n",
       "    <tr style=\"text-align: right;\">\n",
       "      <th></th>\n",
       "      <th>Temperature[C]</th>\n",
       "      <th>Humidity[%]</th>\n",
       "      <th>TVOC[ppb]</th>\n",
       "      <th>eCO2[ppm]</th>\n",
       "      <th>Raw H2</th>\n",
       "      <th>Raw Ethanol</th>\n",
       "      <th>Pressure[hPa]</th>\n",
       "      <th>NC2.5</th>\n",
       "      <th>Fire Alarm</th>\n",
       "      <th>IsItDay?</th>\n",
       "      <th>Weekday_0</th>\n",
       "      <th>Weekday_1</th>\n",
       "      <th>Weekday_2</th>\n",
       "    </tr>\n",
       "  </thead>\n",
       "  <tbody>\n",
       "    <tr>\n",
       "      <th>0</th>\n",
       "      <td>27.041</td>\n",
       "      <td>49.80</td>\n",
       "      <td>19.0</td>\n",
       "      <td>400.0</td>\n",
       "      <td>13059.0</td>\n",
       "      <td>19951</td>\n",
       "      <td>939.777</td>\n",
       "      <td>0.011</td>\n",
       "      <td>0</td>\n",
       "      <td>0</td>\n",
       "      <td>0</td>\n",
       "      <td>0</td>\n",
       "      <td>1</td>\n",
       "    </tr>\n",
       "    <tr>\n",
       "      <th>1</th>\n",
       "      <td>26.987</td>\n",
       "      <td>54.26</td>\n",
       "      <td>1.0</td>\n",
       "      <td>400.0</td>\n",
       "      <td>13078.0</td>\n",
       "      <td>19975</td>\n",
       "      <td>939.765</td>\n",
       "      <td>0.011</td>\n",
       "      <td>0</td>\n",
       "      <td>0</td>\n",
       "      <td>0</td>\n",
       "      <td>0</td>\n",
       "      <td>1</td>\n",
       "    </tr>\n",
       "    <tr>\n",
       "      <th>2</th>\n",
       "      <td>26.985</td>\n",
       "      <td>53.66</td>\n",
       "      <td>10.0</td>\n",
       "      <td>400.0</td>\n",
       "      <td>13068.0</td>\n",
       "      <td>19955</td>\n",
       "      <td>939.768</td>\n",
       "      <td>0.011</td>\n",
       "      <td>0</td>\n",
       "      <td>0</td>\n",
       "      <td>0</td>\n",
       "      <td>0</td>\n",
       "      <td>1</td>\n",
       "    </tr>\n",
       "    <tr>\n",
       "      <th>3</th>\n",
       "      <td>26.983</td>\n",
       "      <td>53.07</td>\n",
       "      <td>10.0</td>\n",
       "      <td>400.0</td>\n",
       "      <td>13069.0</td>\n",
       "      <td>19963</td>\n",
       "      <td>939.775</td>\n",
       "      <td>0.013</td>\n",
       "      <td>0</td>\n",
       "      <td>0</td>\n",
       "      <td>0</td>\n",
       "      <td>0</td>\n",
       "      <td>1</td>\n",
       "    </tr>\n",
       "    <tr>\n",
       "      <th>4</th>\n",
       "      <td>26.982</td>\n",
       "      <td>52.57</td>\n",
       "      <td>13.0</td>\n",
       "      <td>400.0</td>\n",
       "      <td>13072.0</td>\n",
       "      <td>19958</td>\n",
       "      <td>939.770</td>\n",
       "      <td>0.013</td>\n",
       "      <td>0</td>\n",
       "      <td>0</td>\n",
       "      <td>0</td>\n",
       "      <td>0</td>\n",
       "      <td>1</td>\n",
       "    </tr>\n",
       "  </tbody>\n",
       "</table>\n",
       "</div>"
      ],
      "text/plain": [
       "   Temperature[C]  Humidity[%]  TVOC[ppb]  eCO2[ppm]   Raw H2  Raw Ethanol  \\\n",
       "0          27.041        49.80       19.0      400.0  13059.0        19951   \n",
       "1          26.987        54.26        1.0      400.0  13078.0        19975   \n",
       "2          26.985        53.66       10.0      400.0  13068.0        19955   \n",
       "3          26.983        53.07       10.0      400.0  13069.0        19963   \n",
       "4          26.982        52.57       13.0      400.0  13072.0        19958   \n",
       "\n",
       "   Pressure[hPa]  NC2.5  Fire Alarm  IsItDay?  Weekday_0  Weekday_1  Weekday_2  \n",
       "0        939.777  0.011           0         0          0          0          1  \n",
       "1        939.765  0.011           0         0          0          0          1  \n",
       "2        939.768  0.011           0         0          0          0          1  \n",
       "3        939.775  0.013           0         0          0          0          1  \n",
       "4        939.770  0.013           0         0          0          0          1  "
      ]
     },
     "execution_count": 205,
     "metadata": {},
     "output_type": "execute_result"
    }
   ],
   "source": [
    "data = pd.read_csv('../data/processed_smoke_detector.csv')\n",
    "data.head()"
   ]
  },
  {
   "cell_type": "code",
   "execution_count": 206,
   "id": "dc473d24",
   "metadata": {},
   "outputs": [
    {
     "data": {
      "text/plain": [
       "((41247, 12), (41247,))"
      ]
     },
     "execution_count": 206,
     "metadata": {},
     "output_type": "execute_result"
    }
   ],
   "source": [
    "y, X = data['Fire Alarm'].values, data.drop(columns=['Fire Alarm']).values\n",
    "#y = y.reshape(-1, 1)\n",
    "X.shape, y.shape"
   ]
  },
  {
   "cell_type": "code",
   "execution_count": 207,
   "id": "c70109f6",
   "metadata": {},
   "outputs": [
    {
     "data": {
      "text/plain": [
       "<Axes: >"
      ]
     },
     "execution_count": 207,
     "metadata": {},
     "output_type": "execute_result"
    },
    {
     "data": {
      "image/png": "[encoded data removed]",
      "text/plain": [
       "<Figure size 640x480 with 1 Axes>"
      ]
     },
     "metadata": {},
     "output_type": "display_data"
    }
   ],
   "source": [
    "data['Fire Alarm'].hist()"
   ]
  },
  {
   "cell_type": "code",
   "execution_count": 208,
   "id": "00a71a0c",
   "metadata": {},
   "outputs": [
    {
     "data": {
      "text/plain": [
       "((32997, 12), (8250, 12), (32997,), (8250,))"
      ]
     },
     "execution_count": 208,
     "metadata": {},
     "output_type": "execute_result"
    }
   ],
   "source": [
    "X_train, X_test, y_train, y_test = train_test_split(X, y, test_size=0.2)\n",
    "X_train.shape, X_test.shape, y_train.shape, y_test.shape"
   ]
  },
  {
   "cell_type": "code",
   "execution_count": 209,
   "id": "00e45bea",
   "metadata": {},
   "outputs": [],
   "source": [
    "from sklearn.preprocessing import StandardScaler\n",
    "scaler = StandardScaler()\n",
    "X_train = scaler.fit_transform(X_train)\n",
    "X_test = scaler.transform(X_test)"
   ]
  },
  {
   "cell_type": "code",
   "execution_count": 210,
   "id": "ef20da0c",
   "metadata": {},
   "outputs": [],
   "source": [
    "from torch.utils.data import TensorDataset, DataLoader"
   ]
  },
  {
   "cell_type": "code",
   "execution_count": 211,
   "id": "007c9c4c",
   "metadata": {},
   "outputs": [],
   "source": [
    "train_ds = TensorDataset(torch.from_numpy(X_train).type(torch.float32), torch.from_numpy(y_train).type(torch.long))\n",
    "\n",
    "train_dl = DataLoader(train_ds, batch_size=64, shuffle=True)\n",
    "\n",
    "test_ds = TensorDataset(torch.from_numpy(X_test).type(torch.float32), torch.from_numpy(y_test))\n",
    "\n",
    "test_dl = DataLoader(test_ds, batch_size=64, shuffle=True)"
   ]
  },
  {
   "cell_type": "markdown",
   "id": "ff9b4973",
   "metadata": {},
   "source": [
    "# Creating FCNN Classification model"
   ]
  },
  {
   "cell_type": "code",
   "execution_count": 212,
   "id": "332ead40",
   "metadata": {},
   "outputs": [],
   "source": [
    "import torch\n",
    "import torch.nn as nn\n",
    "import torch.optim as optim"
   ]
  },
  {
   "cell_type": "code",
   "execution_count": 213,
   "id": "2d857319",
   "metadata": {},
   "outputs": [],
   "source": [
    "class ClassificationNet(nn.Module):\n",
    "    def __init__(self):\n",
    "        super(ClassificationNet, self).__init__()\n",
    "        self.fc1 = nn.Linear(12, 64)\n",
    "        self.fc2 = nn.Linear(64, 2)\n",
    "        # softmax is not used as CrossEntropyLoss combines CrossEntropyLossnn.LogSoftmax() and nn.NLLLoss() in one class\n",
    "\n",
    "    def forward(self, x):\n",
    "        x = nn.functional.relu(self.fc1(x))\n",
    "        return self.fc2(x)"
   ]
  },
  {
   "cell_type": "code",
   "execution_count": 214,
   "id": "379f7712",
   "metadata": {},
   "outputs": [],
   "source": [
    "class ClassificationNet(nn.Module):\n",
    "    def __init__(self):\n",
    "            super(ClassificationNet, self).__init__()\n",
    "            self.fc1 = nn.Linear(12, 64)\n",
    "            self.fc2 = nn.Linear(64, 128)\n",
    "            self.fc3 = nn.Linear(128, 2)\n",
    "            # softmax is not used as CrossEntropyLoss combines CrossEntropyLossnn.LogSoftmax() and nn.NLLLoss() in one class\n",
    "            \n",
    "    def forward(self, x):\n",
    "        x = nn.functional.relu(self.fc1(x))\n",
    "        x = nn.functional.relu(self.fc2(x))\n",
    "        x = self.fc3(x)\n",
    "        return x"
   ]
  },
  {
   "cell_type": "code",
   "execution_count": 215,
   "id": "c5eac58b",
   "metadata": {},
   "outputs": [],
   "source": [
    "model = ClassificationNet().to(device)\n",
    "class_weights = torch.tensor([1.0, 5.0]).to(device) # weights for classes for FN -> min\n",
    "loss_function = nn.CrossEntropyLoss(weight=class_weights).to(device)\n",
    "learning_rate = 0.00001\n",
    "optimizer = optim.Adam(model.parameters(), lr=learning_rate)"
   ]
  },
  {
   "cell_type": "code",
   "execution_count": 216,
   "id": "1395fddb",
   "metadata": {},
   "outputs": [
    {
     "name": "stdout",
     "output_type": "stream",
     "text": [
      "Epoch [1/100], Loss: 0.5254\n",
      "Epoch [2/100], Loss: 0.3695\n",
      "Epoch [3/100], Loss: 0.3103\n",
      "Epoch [4/100], Loss: 0.2224\n",
      "Epoch [5/100], Loss: 0.1343\n",
      "Epoch [6/100], Loss: 0.0818\n",
      "Epoch [7/100], Loss: 0.0664\n",
      "Epoch [8/100], Loss: 0.0806\n",
      "Epoch [9/100], Loss: 0.0571\n",
      "Epoch [10/100], Loss: 0.0731\n",
      "Epoch [11/100], Loss: 0.0310\n",
      "Epoch [12/100], Loss: 0.0663\n",
      "Epoch [13/100], Loss: 0.0286\n",
      "Epoch [14/100], Loss: 0.0157\n",
      "Epoch [15/100], Loss: 0.0403\n",
      "Epoch [16/100], Loss: 0.0092\n",
      "Epoch [17/100], Loss: 0.0095\n",
      "Epoch [18/100], Loss: 0.0246\n",
      "Epoch [19/100], Loss: 0.0585\n",
      "Epoch [20/100], Loss: 0.0395\n",
      "Epoch [21/100], Loss: 0.0222\n",
      "Epoch [22/100], Loss: 0.0024\n",
      "Epoch [23/100], Loss: 0.0122\n",
      "Epoch [24/100], Loss: 0.0230\n",
      "Epoch [25/100], Loss: 0.0166\n",
      "Epoch [26/100], Loss: 0.0142\n",
      "Epoch [27/100], Loss: 0.0134\n",
      "Epoch [28/100], Loss: 0.0151\n",
      "Epoch [29/100], Loss: 0.0063\n",
      "Epoch [30/100], Loss: 0.0118\n",
      "Epoch [31/100], Loss: 0.0011\n",
      "Epoch [32/100], Loss: 0.0130\n",
      "Epoch [33/100], Loss: 0.0045\n",
      "Epoch [34/100], Loss: 0.0068\n",
      "Epoch [35/100], Loss: 0.0033\n",
      "Epoch [36/100], Loss: 0.0232\n",
      "Epoch [37/100], Loss: 0.0007\n",
      "Epoch [38/100], Loss: 0.0071\n",
      "Epoch [39/100], Loss: 0.0156\n",
      "Epoch [40/100], Loss: 0.0115\n",
      "Epoch [41/100], Loss: 0.0059\n",
      "Epoch [42/100], Loss: 0.0107\n",
      "Epoch [43/100], Loss: 0.0013\n",
      "Epoch [44/100], Loss: 0.0040\n",
      "Epoch [45/100], Loss: 0.0110\n",
      "Epoch [46/100], Loss: 0.0204\n",
      "Epoch [47/100], Loss: 0.0128\n",
      "Epoch [48/100], Loss: 0.0036\n",
      "Epoch [49/100], Loss: 0.0049\n",
      "Epoch [50/100], Loss: 0.0018\n",
      "Epoch [51/100], Loss: 0.0002\n",
      "Epoch [52/100], Loss: 0.0068\n",
      "Epoch [53/100], Loss: 0.0061\n",
      "Epoch [54/100], Loss: 0.0000\n",
      "Epoch [55/100], Loss: 0.0112\n",
      "Epoch [56/100], Loss: 0.0119\n",
      "Epoch [57/100], Loss: 0.0001\n",
      "Epoch [58/100], Loss: 0.0017\n",
      "Epoch [59/100], Loss: 0.0123\n",
      "Epoch [60/100], Loss: 0.0082\n",
      "Epoch [61/100], Loss: 0.0010\n",
      "Epoch [62/100], Loss: 0.0083\n",
      "Epoch [63/100], Loss: 0.0004\n",
      "Epoch [64/100], Loss: 0.0010\n",
      "Epoch [65/100], Loss: 0.0012\n",
      "Epoch [66/100], Loss: 0.0037\n",
      "Epoch [67/100], Loss: 0.0027\n",
      "Epoch [68/100], Loss: 0.0017\n",
      "Epoch [69/100], Loss: 0.0009\n",
      "Epoch [70/100], Loss: 0.0056\n",
      "Epoch [71/100], Loss: 0.0019\n",
      "Epoch [72/100], Loss: 0.0027\n",
      "Epoch [73/100], Loss: 0.0002\n",
      "Epoch [74/100], Loss: 0.0035\n",
      "Epoch [75/100], Loss: 0.0003\n",
      "Epoch [76/100], Loss: 0.0019\n",
      "Epoch [77/100], Loss: 0.0010\n",
      "Epoch [78/100], Loss: 0.0011\n",
      "Epoch [79/100], Loss: 0.0047\n",
      "Epoch [80/100], Loss: 0.0024\n",
      "Epoch [81/100], Loss: 0.0019\n",
      "Epoch [82/100], Loss: 0.0006\n",
      "Epoch [83/100], Loss: 0.0092\n",
      "Epoch [84/100], Loss: 0.0003\n",
      "Epoch [85/100], Loss: 0.0043\n",
      "Epoch [86/100], Loss: 0.0005\n",
      "Epoch [87/100], Loss: 0.0042\n",
      "Epoch [88/100], Loss: 0.0002\n",
      "Epoch [89/100], Loss: 0.0007\n",
      "Epoch [90/100], Loss: 0.0026\n",
      "Epoch [91/100], Loss: 0.0000\n",
      "Epoch [92/100], Loss: 0.0001\n",
      "Epoch [93/100], Loss: 0.0000\n",
      "Epoch [94/100], Loss: 0.0041\n",
      "Epoch [95/100], Loss: 0.0002\n",
      "Epoch [96/100], Loss: 0.0008\n",
      "Epoch [97/100], Loss: 0.0011\n",
      "Epoch [98/100], Loss: 0.0062\n",
      "Epoch [99/100], Loss: 0.0023\n",
      "Epoch [100/100], Loss: 0.0005\n"
     ]
    }
   ],
   "source": [
    "num_epochs = 100\n",
    "epoch_loss = []\n",
    "for epoch in range(num_epochs):\n",
    "    model.train()\n",
    "    for batch_x, batch_y in train_dl:\n",
    "        batch_x = batch_x.to(device)\n",
    "        batch_y = batch_y.to(device)\n",
    "        optimizer.zero_grad()\n",
    "        outputs = model(batch_x)\n",
    "        loss = loss_function(outputs, batch_y)\n",
    "        loss.backward()\n",
    "        optimizer.step()\n",
    "\n",
    "    print(f'Epoch [{epoch+1}/{num_epochs}], Loss: {loss.item():.4f}')\n",
    "    epoch_loss.append(loss.item())"
   ]
  },
  {
   "cell_type": "code",
   "execution_count": 217,
   "id": "9a4617c2",
   "metadata": {},
   "outputs": [],
   "source": [
    "import matplotlib.pyplot as plt"
   ]
  },
  {
   "cell_type": "code",
   "execution_count": 218,
   "id": "e3ac415a",
   "metadata": {},
   "outputs": [
    {
     "data": {
      "text/plain": [
       "[<matplotlib.lines.Line2D at 0x1b7f3eb2fc0>]"
      ]
     },
     "execution_count": 218,
     "metadata": {},
     "output_type": "execute_result"
    },
    {
     "data": {
      "image/png": "[encoded data removed]",
      "text/plain": [
       "<Figure size 640x480 with 1 Axes>"
      ]
     },
     "metadata": {},
     "output_type": "display_data"
    }
   ],
   "source": [
    "plt.plot(epoch_loss)"
   ]
  },
  {
   "cell_type": "markdown",
   "id": "b8f7ccc8",
   "metadata": {},
   "source": [
    "## Evaluation on test data"
   ]
  },
  {
   "cell_type": "code",
   "execution_count": 219,
   "id": "bfa82ef4",
   "metadata": {},
   "outputs": [],
   "source": [
    "# model.eval()\n",
    "# with torch.no_grad():\n",
    "#     outputs = model(torch.from_numpy(X_test).float())\n",
    "#     _, predicted_classes = torch.max(outputs, 1)\n",
    "\n",
    "# predicted_classes_np = predicted_classes.numpy()"
   ]
  },
  {
   "cell_type": "code",
   "execution_count": 220,
   "id": "1997728a",
   "metadata": {},
   "outputs": [],
   "source": [
    "import numpy as np"
   ]
  },
  {
   "cell_type": "code",
   "execution_count": 221,
   "id": "ed639089",
   "metadata": {},
   "outputs": [],
   "source": [
    "model.eval()\n",
    "\n",
    "with torch.no_grad():\n",
    "    all_predictions = []\n",
    "    all_labels = []\n",
    "\n",
    "    for batch_x, batch_y in test_dl:\n",
    "        outputs = model(batch_x)\n",
    "        _, predicted_classes = torch.max(outputs, 1)\n",
    "        \n",
    "        all_predictions.extend(predicted_classes.cpu().numpy())\n",
    "        all_labels.extend(batch_y.cpu().numpy())\n",
    "\n",
    "all_predictions = np.array(all_predictions)\n",
    "all_labels = np.array(all_labels)"
   ]
  },
  {
   "cell_type": "code",
   "execution_count": 222,
   "id": "e21a79e4",
   "metadata": {},
   "outputs": [
    {
     "name": "stdout",
     "output_type": "stream",
     "text": [
      "Classification Report:\n",
      "\n",
      "              precision    recall  f1-score   support\n",
      "\n",
      "     Class 0       1.00      0.99      0.99      1838\n",
      "     Class 1       1.00      1.00      1.00      6412\n",
      "\n",
      "    accuracy                           1.00      8250\n",
      "   macro avg       1.00      0.99      1.00      8250\n",
      "weighted avg       1.00      1.00      1.00      8250\n",
      "\n",
      "\n",
      "Confusion Matrix:\n",
      "\n",
      "[[1819   19]\n",
      " [   0 6412]]\n"
     ]
    }
   ],
   "source": [
    "from sklearn.metrics import confusion_matrix, classification_report\n",
    "\n",
    "print(\"Classification Report:\\n\")\n",
    "report = classification_report(all_labels, all_predictions, target_names=['Class 0', 'Class 1'])\n",
    "print(report)\n",
    "\n",
    "print(\"\\nConfusion Matrix:\\n\")\n",
    "cm = confusion_matrix(all_labels, all_predictions)\n",
    "print(cm)"
   ]
  },
  {
   "cell_type": "markdown",
   "id": "53f72d4d",
   "metadata": {},
   "source": [
    "## Evaluation on train data\n",
    "If metrics on train >>> than on test => overfitting"
   ]
  },
  {
   "cell_type": "code",
   "execution_count": 223,
   "id": "6fd7216a",
   "metadata": {},
   "outputs": [],
   "source": [
    "model.eval()\n",
    "\n",
    "with torch.no_grad():\n",
    "    all_predictions = []\n",
    "    all_labels = []\n",
    "\n",
    "    for batch_x, batch_y in train_dl:\n",
    "        outputs = model(batch_x)\n",
    "        _, predicted_classes = torch.max(outputs, 1)\n",
    "        \n",
    "        all_predictions.extend(predicted_classes.cpu().numpy())\n",
    "        all_labels.extend(batch_y.cpu().numpy())\n",
    "\n",
    "all_predictions = np.array(all_predictions)\n",
    "all_labels = np.array(all_labels)"
   ]
  },
  {
   "cell_type": "code",
   "execution_count": 224,
   "id": "a4adff97",
   "metadata": {},
   "outputs": [
    {
     "name": "stdout",
     "output_type": "stream",
     "text": [
      "Classification Report:\n",
      "\n",
      "              precision    recall  f1-score   support\n",
      "\n",
      "     Class 0       1.00      0.99      1.00      7212\n",
      "     Class 1       1.00      1.00      1.00     25785\n",
      "\n",
      "    accuracy                           1.00     32997\n",
      "   macro avg       1.00      1.00      1.00     32997\n",
      "weighted avg       1.00      1.00      1.00     32997\n",
      "\n",
      "\n",
      "Confusion Matrix:\n",
      "\n",
      "[[ 7154    58]\n",
      " [    0 25785]]\n"
     ]
    }
   ],
   "source": [
    "from sklearn.metrics import confusion_matrix, classification_report\n",
    "\n",
    "print(\"Classification Report:\\n\")\n",
    "report = classification_report(all_labels, all_predictions, target_names=['Class 0', 'Class 1'])\n",
    "print(report)\n",
    "\n",
    "print(\"\\nConfusion Matrix:\\n\")\n",
    "cm = confusion_matrix(all_labels, all_predictions)\n",
    "print(cm)"
   ]
  }
 ],
 "metadata": {
  "kernelspec": {
   "display_name": "venv",
   "language": "python",
   "name": "python3"
  },
  "language_info": {
   "codemirror_mode": {
    "name": "ipython",
    "version": 3
   },
   "file_extension": ".py",
   "mimetype": "text/x-python",
   "name": "python",
   "nbconvert_exporter": "python",
   "pygments_lexer": "ipython3",
   "version": "3.12.10"
  }
 },
 "nbformat": 4,
 "nbformat_minor": 5
}
