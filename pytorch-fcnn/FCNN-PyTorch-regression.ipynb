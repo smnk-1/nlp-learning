{
 "cells": [
  {
   "cell_type": "code",
   "execution_count": 357,
   "id": "7c5cbe45",
   "metadata": {},
   "outputs": [
    {
     "data": {
      "text/plain": [
       "'2.8.0+cu126'"
      ]
     },
     "execution_count": 357,
     "metadata": {},
     "output_type": "execute_result"
    }
   ],
   "source": [
    "import torch\n",
    "import pandas as pd\n",
    "\n",
    "torch.__version__"
   ]
  },
  {
   "cell_type": "code",
   "execution_count": 358,
   "id": "4457f816",
   "metadata": {},
   "outputs": [
    {
     "name": "stdout",
     "output_type": "stream",
     "text": [
      "Using cuda device\n"
     ]
    }
   ],
   "source": [
    "device = torch.accelerator.current_accelerator().type if torch.accelerator.is_available() else \"cpu\"\n",
    "print(f\"Using {device} device\")"
   ]
  },
  {
   "cell_type": "code",
   "execution_count": 359,
   "id": "f576315d",
   "metadata": {},
   "outputs": [],
   "source": [
    "#device = 'cpu'"
   ]
  },
  {
   "cell_type": "code",
   "execution_count": 360,
   "id": "d658a09f",
   "metadata": {},
   "outputs": [],
   "source": [
    "from sklearn.model_selection import train_test_split"
   ]
  },
  {
   "cell_type": "code",
   "execution_count": 361,
   "id": "9ccf6b78",
   "metadata": {},
   "outputs": [
    {
     "data": {
      "text/html": [
       "<div>\n",
       "<style scoped>\n",
       "    .dataframe tbody tr th:only-of-type {\n",
       "        vertical-align: middle;\n",
       "    }\n",
       "\n",
       "    .dataframe tbody tr th {\n",
       "        vertical-align: top;\n",
       "    }\n",
       "\n",
       "    .dataframe thead th {\n",
       "        text-align: right;\n",
       "    }\n",
       "</style>\n",
       "<table border=\"1\" class=\"dataframe\">\n",
       "  <thead>\n",
       "    <tr style=\"text-align: right;\">\n",
       "      <th></th>\n",
       "      <th>passenger_count</th>\n",
       "      <th>pickup_longitude</th>\n",
       "      <th>pickup_latitude</th>\n",
       "      <th>dropoff_longitude</th>\n",
       "      <th>dropoff_latitude</th>\n",
       "      <th>trip_duration</th>\n",
       "      <th>in_nyc_center?</th>\n",
       "      <th>distance</th>\n",
       "      <th>hour_1</th>\n",
       "      <th>hour_2</th>\n",
       "      <th>...</th>\n",
       "      <th>hour_17</th>\n",
       "      <th>hour_18</th>\n",
       "      <th>hour_19</th>\n",
       "      <th>hour_20</th>\n",
       "      <th>hour_21</th>\n",
       "      <th>hour_22</th>\n",
       "      <th>hour_23</th>\n",
       "      <th>hour_24</th>\n",
       "      <th>is_it_weekday?</th>\n",
       "      <th>is_it_first_vendor?(else 2nd)</th>\n",
       "    </tr>\n",
       "  </thead>\n",
       "  <tbody>\n",
       "    <tr>\n",
       "      <th>0</th>\n",
       "      <td>1</td>\n",
       "      <td>-73.953918</td>\n",
       "      <td>40.778873</td>\n",
       "      <td>-73.963875</td>\n",
       "      <td>40.771164</td>\n",
       "      <td>400</td>\n",
       "      <td>1</td>\n",
       "      <td>1199.769914</td>\n",
       "      <td>1</td>\n",
       "      <td>0</td>\n",
       "      <td>...</td>\n",
       "      <td>0</td>\n",
       "      <td>0</td>\n",
       "      <td>0</td>\n",
       "      <td>0</td>\n",
       "      <td>0</td>\n",
       "      <td>0</td>\n",
       "      <td>0</td>\n",
       "      <td>0</td>\n",
       "      <td>1</td>\n",
       "      <td>0</td>\n",
       "    </tr>\n",
       "    <tr>\n",
       "      <th>1</th>\n",
       "      <td>2</td>\n",
       "      <td>-73.988312</td>\n",
       "      <td>40.731743</td>\n",
       "      <td>-73.994751</td>\n",
       "      <td>40.694931</td>\n",
       "      <td>1100</td>\n",
       "      <td>1</td>\n",
       "      <td>4123.945168</td>\n",
       "      <td>0</td>\n",
       "      <td>1</td>\n",
       "      <td>...</td>\n",
       "      <td>0</td>\n",
       "      <td>0</td>\n",
       "      <td>0</td>\n",
       "      <td>0</td>\n",
       "      <td>0</td>\n",
       "      <td>0</td>\n",
       "      <td>0</td>\n",
       "      <td>0</td>\n",
       "      <td>1</td>\n",
       "      <td>1</td>\n",
       "    </tr>\n",
       "    <tr>\n",
       "      <th>2</th>\n",
       "      <td>2</td>\n",
       "      <td>-73.997314</td>\n",
       "      <td>40.721458</td>\n",
       "      <td>-73.948029</td>\n",
       "      <td>40.774918</td>\n",
       "      <td>1635</td>\n",
       "      <td>1</td>\n",
       "      <td>7250.435807</td>\n",
       "      <td>0</td>\n",
       "      <td>0</td>\n",
       "      <td>...</td>\n",
       "      <td>0</td>\n",
       "      <td>0</td>\n",
       "      <td>0</td>\n",
       "      <td>0</td>\n",
       "      <td>0</td>\n",
       "      <td>0</td>\n",
       "      <td>0</td>\n",
       "      <td>0</td>\n",
       "      <td>0</td>\n",
       "      <td>0</td>\n",
       "    </tr>\n",
       "    <tr>\n",
       "      <th>3</th>\n",
       "      <td>6</td>\n",
       "      <td>-73.961670</td>\n",
       "      <td>40.759720</td>\n",
       "      <td>-73.956779</td>\n",
       "      <td>40.780628</td>\n",
       "      <td>1141</td>\n",
       "      <td>1</td>\n",
       "      <td>2358.286547</td>\n",
       "      <td>0</td>\n",
       "      <td>0</td>\n",
       "      <td>...</td>\n",
       "      <td>0</td>\n",
       "      <td>0</td>\n",
       "      <td>0</td>\n",
       "      <td>0</td>\n",
       "      <td>0</td>\n",
       "      <td>0</td>\n",
       "      <td>0</td>\n",
       "      <td>0</td>\n",
       "      <td>1</td>\n",
       "      <td>0</td>\n",
       "    </tr>\n",
       "    <tr>\n",
       "      <th>4</th>\n",
       "      <td>2</td>\n",
       "      <td>-73.993614</td>\n",
       "      <td>40.751884</td>\n",
       "      <td>-73.995422</td>\n",
       "      <td>40.723862</td>\n",
       "      <td>1455</td>\n",
       "      <td>1</td>\n",
       "      <td>3115.641570</td>\n",
       "      <td>0</td>\n",
       "      <td>0</td>\n",
       "      <td>...</td>\n",
       "      <td>0</td>\n",
       "      <td>0</td>\n",
       "      <td>0</td>\n",
       "      <td>0</td>\n",
       "      <td>0</td>\n",
       "      <td>0</td>\n",
       "      <td>0</td>\n",
       "      <td>0</td>\n",
       "      <td>0</td>\n",
       "      <td>0</td>\n",
       "    </tr>\n",
       "  </tbody>\n",
       "</table>\n",
       "<p>5 rows × 34 columns</p>\n",
       "</div>"
      ],
      "text/plain": [
       "   passenger_count  pickup_longitude  pickup_latitude  dropoff_longitude  \\\n",
       "0                1        -73.953918        40.778873         -73.963875   \n",
       "1                2        -73.988312        40.731743         -73.994751   \n",
       "2                2        -73.997314        40.721458         -73.948029   \n",
       "3                6        -73.961670        40.759720         -73.956779   \n",
       "4                2        -73.993614        40.751884         -73.995422   \n",
       "\n",
       "   dropoff_latitude  trip_duration  in_nyc_center?     distance  hour_1  \\\n",
       "0         40.771164            400               1  1199.769914       1   \n",
       "1         40.694931           1100               1  4123.945168       0   \n",
       "2         40.774918           1635               1  7250.435807       0   \n",
       "3         40.780628           1141               1  2358.286547       0   \n",
       "4         40.723862           1455               1  3115.641570       0   \n",
       "\n",
       "   hour_2  ...  hour_17  hour_18  hour_19  hour_20  hour_21  hour_22  hour_23  \\\n",
       "0       0  ...        0        0        0        0        0        0        0   \n",
       "1       1  ...        0        0        0        0        0        0        0   \n",
       "2       0  ...        0        0        0        0        0        0        0   \n",
       "3       0  ...        0        0        0        0        0        0        0   \n",
       "4       0  ...        0        0        0        0        0        0        0   \n",
       "\n",
       "   hour_24  is_it_weekday?  is_it_first_vendor?(else 2nd)  \n",
       "0        0               1                              0  \n",
       "1        0               1                              1  \n",
       "2        0               0                              0  \n",
       "3        0               1                              0  \n",
       "4        0               0                              0  \n",
       "\n",
       "[5 rows x 34 columns]"
      ]
     },
     "execution_count": 361,
     "metadata": {},
     "output_type": "execute_result"
    }
   ],
   "source": [
    "data = pd.read_csv('../data/processed_trip_duration.csv')\n",
    "data.head()"
   ]
  },
  {
   "cell_type": "code",
   "execution_count": 362,
   "id": "dc473d24",
   "metadata": {},
   "outputs": [
    {
     "data": {
      "text/plain": [
       "((655757, 33), (655757, 1))"
      ]
     },
     "execution_count": 362,
     "metadata": {},
     "output_type": "execute_result"
    }
   ],
   "source": [
    "y, X = data['trip_duration'].values, data.drop(columns=['trip_duration']).values\n",
    "y = y.reshape(-1, 1)\n",
    "X.shape, y.shape"
   ]
  },
  {
   "cell_type": "code",
   "execution_count": 363,
   "id": "00a71a0c",
   "metadata": {},
   "outputs": [
    {
     "data": {
      "text/plain": [
       "((524605, 33), (131152, 33), (524605, 1), (131152, 1))"
      ]
     },
     "execution_count": 363,
     "metadata": {},
     "output_type": "execute_result"
    }
   ],
   "source": [
    "X_train, X_test, y_train, y_test = train_test_split(X, y, test_size=0.2)\n",
    "X_train.shape, X_test.shape, y_train.shape, y_test.shape"
   ]
  },
  {
   "cell_type": "code",
   "execution_count": 364,
   "id": "ef20da0c",
   "metadata": {},
   "outputs": [],
   "source": [
    "from torch.utils.data import TensorDataset, DataLoader"
   ]
  },
  {
   "cell_type": "code",
   "execution_count": 365,
   "id": "89901d9f",
   "metadata": {},
   "outputs": [],
   "source": [
    "from sklearn.preprocessing import StandardScaler\n",
    "scaler = StandardScaler()\n",
    "X_train = scaler.fit_transform(X_train)\n",
    "X_test = scaler.transform(X_test)"
   ]
  },
  {
   "cell_type": "code",
   "execution_count": 366,
   "id": "007c9c4c",
   "metadata": {},
   "outputs": [],
   "source": [
    "train_ds = TensorDataset(torch.from_numpy(X_train).type(torch.float32).to(device), torch.from_numpy(y_train).type(torch.float32).to(device))\n",
    "\n",
    "train_dl = DataLoader(train_ds, batch_size=512, shuffle=True)\n",
    "\n",
    "test_ds = TensorDataset(torch.from_numpy(X_test).type(torch.float32).to(device), torch.from_numpy(y_test).type(torch.float32).to(device))\n",
    "\n",
    "test_dl = DataLoader(test_ds, batch_size=512, shuffle=True)"
   ]
  },
  {
   "cell_type": "markdown",
   "id": "ff9b4973",
   "metadata": {},
   "source": [
    "# Creating FCNN Classification model"
   ]
  },
  {
   "cell_type": "code",
   "execution_count": 367,
   "id": "59d274f5",
   "metadata": {},
   "outputs": [],
   "source": [
    "import numpy as np"
   ]
  },
  {
   "cell_type": "code",
   "execution_count": 368,
   "id": "332ead40",
   "metadata": {},
   "outputs": [],
   "source": [
    "import torch\n",
    "import torch.nn as nn\n",
    "import torch.optim as optim"
   ]
  },
  {
   "cell_type": "code",
   "execution_count": 369,
   "id": "2d857319",
   "metadata": {},
   "outputs": [],
   "source": [
    "class RegressionNet(nn.Module):\n",
    "    def __init__(self):\n",
    "        super(RegressionNet, self).__init__()\n",
    "        self.fc1 = nn.Linear(33, 64)\n",
    "        self.fc2 = nn.Linear(64, 128)\n",
    "        self.fc3 = nn.Linear(128, 1)\n",
    "        \n",
    "    def forward(self, x):\n",
    "        x = nn.functional.relu(self.fc1(x))\n",
    "        x = nn.functional.relu(self.fc2(x))\n",
    "        x = self.fc3(x)\n",
    "        return x"
   ]
  },
  {
   "cell_type": "code",
   "execution_count": 370,
   "id": "c5eac58b",
   "metadata": {},
   "outputs": [],
   "source": [
    "model = RegressionNet().to(device)\n",
    "loss_function = nn.MSELoss().to(device)\n",
    "optimizer = optim.Adam(model.parameters(), lr=0.0001)"
   ]
  },
  {
   "cell_type": "code",
   "execution_count": 371,
   "id": "1395fddb",
   "metadata": {},
   "outputs": [
    {
     "name": "stdout",
     "output_type": "stream",
     "text": [
      "Epoch [1/200], Loss: 616200.1250\n",
      "Epoch [2/200], Loss: 190782.7188\n",
      "Epoch [3/200], Loss: 124912.2578\n",
      "Epoch [4/200], Loss: 95956.9375\n",
      "Epoch [5/200], Loss: 140239.6094\n",
      "Epoch [6/200], Loss: 86850.7812\n",
      "Epoch [7/200], Loss: 107938.9297\n",
      "Epoch [8/200], Loss: 107784.6484\n",
      "Epoch [9/200], Loss: 104093.1797\n",
      "Epoch [10/200], Loss: 103777.8281\n",
      "Epoch [11/200], Loss: 86787.1562\n",
      "Epoch [12/200], Loss: 69781.6406\n",
      "Epoch [13/200], Loss: 80285.1875\n",
      "Epoch [14/200], Loss: 113672.6875\n",
      "Epoch [15/200], Loss: 80102.1094\n",
      "Epoch [16/200], Loss: 99406.2656\n",
      "Epoch [17/200], Loss: 71549.9531\n",
      "Epoch [18/200], Loss: 91980.2578\n",
      "Epoch [19/200], Loss: 80054.5859\n",
      "Epoch [20/200], Loss: 87396.8750\n",
      "Epoch [21/200], Loss: 77882.2891\n",
      "Epoch [22/200], Loss: 108369.6953\n",
      "Epoch [23/200], Loss: 75360.2891\n",
      "Epoch [24/200], Loss: 97390.5391\n",
      "Epoch [25/200], Loss: 92374.1328\n",
      "Epoch [26/200], Loss: 99021.7109\n",
      "Epoch [27/200], Loss: 82513.9141\n",
      "Epoch [28/200], Loss: 86084.1250\n",
      "Epoch [29/200], Loss: 82256.3828\n",
      "Epoch [30/200], Loss: 85771.5078\n",
      "Epoch [31/200], Loss: 71057.1250\n",
      "Epoch [32/200], Loss: 72041.8750\n",
      "Epoch [33/200], Loss: 100845.9062\n",
      "Epoch [34/200], Loss: 88079.5000\n",
      "Epoch [35/200], Loss: 79781.9844\n",
      "Epoch [36/200], Loss: 70821.4688\n",
      "Epoch [37/200], Loss: 68826.9297\n",
      "Epoch [38/200], Loss: 88698.2344\n",
      "Epoch [39/200], Loss: 82762.4375\n",
      "Epoch [40/200], Loss: 83579.4688\n",
      "Epoch [41/200], Loss: 82914.9531\n",
      "Epoch [42/200], Loss: 63322.2969\n",
      "Epoch [43/200], Loss: 59537.0234\n",
      "Epoch [44/200], Loss: 78879.2031\n",
      "Epoch [45/200], Loss: 80519.3906\n",
      "Epoch [46/200], Loss: 61596.8594\n",
      "Epoch [47/200], Loss: 77712.3359\n",
      "Epoch [48/200], Loss: 79674.0938\n",
      "Epoch [49/200], Loss: 63919.5703\n",
      "Epoch [50/200], Loss: 63887.6992\n",
      "Epoch [51/200], Loss: 65829.5000\n",
      "Epoch [52/200], Loss: 67155.0391\n",
      "Epoch [53/200], Loss: 77871.4219\n",
      "Epoch [54/200], Loss: 69459.9688\n",
      "Epoch [55/200], Loss: 66139.3906\n",
      "Epoch [56/200], Loss: 79901.9453\n",
      "Epoch [57/200], Loss: 54923.9570\n",
      "Epoch [58/200], Loss: 62451.3438\n",
      "Epoch [59/200], Loss: 62789.9805\n",
      "Epoch [60/200], Loss: 75365.8281\n",
      "Epoch [61/200], Loss: 74277.0000\n",
      "Epoch [62/200], Loss: 84184.9609\n",
      "Epoch [63/200], Loss: 60173.0781\n",
      "Epoch [64/200], Loss: 70853.5703\n",
      "Epoch [65/200], Loss: 68406.3906\n",
      "Epoch [66/200], Loss: 73496.0000\n",
      "Epoch [67/200], Loss: 57441.6914\n",
      "Epoch [68/200], Loss: 75896.4688\n",
      "Epoch [69/200], Loss: 76088.1562\n",
      "Epoch [70/200], Loss: 55584.0625\n",
      "Epoch [71/200], Loss: 71000.3281\n",
      "Epoch [72/200], Loss: 64421.4414\n",
      "Epoch [73/200], Loss: 61052.0469\n",
      "Epoch [74/200], Loss: 54138.0391\n",
      "Epoch [75/200], Loss: 72975.1250\n",
      "Epoch [76/200], Loss: 54446.5234\n",
      "Epoch [77/200], Loss: 73177.0312\n",
      "Epoch [78/200], Loss: 83662.0703\n",
      "Epoch [79/200], Loss: 59524.7578\n",
      "Epoch [80/200], Loss: 68449.8203\n",
      "Epoch [81/200], Loss: 83739.9609\n",
      "Epoch [82/200], Loss: 59018.4922\n",
      "Epoch [83/200], Loss: 78833.7969\n",
      "Epoch [84/200], Loss: 58573.7188\n",
      "Epoch [85/200], Loss: 65503.2578\n",
      "Epoch [86/200], Loss: 68666.1641\n",
      "Epoch [87/200], Loss: 46378.4844\n",
      "Epoch [88/200], Loss: 50220.0117\n",
      "Epoch [89/200], Loss: 69442.8438\n",
      "Epoch [90/200], Loss: 60095.9883\n",
      "Epoch [91/200], Loss: 64663.5859\n",
      "Epoch [92/200], Loss: 47416.6523\n",
      "Epoch [93/200], Loss: 64582.3867\n",
      "Epoch [94/200], Loss: 63487.7031\n",
      "Epoch [95/200], Loss: 67645.0625\n",
      "Epoch [96/200], Loss: 58589.8516\n",
      "Epoch [97/200], Loss: 53325.9492\n",
      "Epoch [98/200], Loss: 69840.9453\n",
      "Epoch [99/200], Loss: 87032.2031\n",
      "Epoch [100/200], Loss: 84096.6562\n",
      "Epoch [101/200], Loss: 56300.8906\n",
      "Epoch [102/200], Loss: 64851.3281\n",
      "Epoch [103/200], Loss: 74074.9375\n",
      "Epoch [104/200], Loss: 56883.9375\n",
      "Epoch [105/200], Loss: 59828.4883\n",
      "Epoch [106/200], Loss: 63105.0430\n",
      "Epoch [107/200], Loss: 61635.4648\n",
      "Epoch [108/200], Loss: 79781.4141\n",
      "Epoch [109/200], Loss: 58995.2812\n",
      "Epoch [110/200], Loss: 83975.1172\n",
      "Epoch [111/200], Loss: 58479.3086\n",
      "Epoch [112/200], Loss: 72842.5156\n",
      "Epoch [113/200], Loss: 68571.3828\n",
      "Epoch [114/200], Loss: 68080.2578\n",
      "Epoch [115/200], Loss: 85121.1484\n",
      "Epoch [116/200], Loss: 95058.6484\n",
      "Epoch [117/200], Loss: 64561.0859\n",
      "Epoch [118/200], Loss: 62084.6836\n",
      "Epoch [119/200], Loss: 71484.1172\n",
      "Epoch [120/200], Loss: 56433.1367\n",
      "Epoch [121/200], Loss: 66570.6484\n",
      "Epoch [122/200], Loss: 71024.4297\n",
      "Epoch [123/200], Loss: 58154.0898\n",
      "Epoch [124/200], Loss: 76282.4375\n",
      "Epoch [125/200], Loss: 65709.5859\n",
      "Epoch [126/200], Loss: 74971.9375\n",
      "Epoch [127/200], Loss: 76722.8828\n",
      "Epoch [128/200], Loss: 72474.8047\n",
      "Epoch [129/200], Loss: 68558.8672\n",
      "Epoch [130/200], Loss: 63650.2734\n",
      "Epoch [131/200], Loss: 57249.6875\n",
      "Epoch [132/200], Loss: 63579.8516\n",
      "Epoch [133/200], Loss: 59823.3398\n",
      "Epoch [134/200], Loss: 76754.4609\n",
      "Epoch [135/200], Loss: 54695.3008\n",
      "Epoch [136/200], Loss: 59299.3086\n",
      "Epoch [137/200], Loss: 90049.3125\n",
      "Epoch [138/200], Loss: 77264.8750\n",
      "Epoch [139/200], Loss: 66151.7422\n",
      "Epoch [140/200], Loss: 67973.3047\n",
      "Epoch [141/200], Loss: 62328.8711\n",
      "Epoch [142/200], Loss: 67327.7031\n",
      "Epoch [143/200], Loss: 52757.7812\n",
      "Epoch [144/200], Loss: 61157.9180\n",
      "Epoch [145/200], Loss: 81698.3906\n",
      "Epoch [146/200], Loss: 57602.3555\n",
      "Epoch [147/200], Loss: 58059.6484\n",
      "Epoch [148/200], Loss: 58473.8242\n",
      "Epoch [149/200], Loss: 72583.9922\n",
      "Epoch [150/200], Loss: 81159.5469\n",
      "Epoch [151/200], Loss: 68878.3047\n",
      "Epoch [152/200], Loss: 58372.1289\n",
      "Epoch [153/200], Loss: 77374.5391\n",
      "Epoch [154/200], Loss: 67610.1484\n",
      "Epoch [155/200], Loss: 60268.8711\n",
      "Epoch [156/200], Loss: 59995.6602\n",
      "Epoch [157/200], Loss: 76558.0469\n",
      "Epoch [158/200], Loss: 59791.3594\n",
      "Epoch [159/200], Loss: 53573.8164\n",
      "Epoch [160/200], Loss: 75557.7266\n",
      "Epoch [161/200], Loss: 73945.2656\n",
      "Epoch [162/200], Loss: 92779.4922\n",
      "Epoch [163/200], Loss: 63265.9688\n",
      "Epoch [164/200], Loss: 60470.1406\n",
      "Epoch [165/200], Loss: 63455.2891\n",
      "Epoch [166/200], Loss: 72932.8594\n",
      "Epoch [167/200], Loss: 63121.2188\n",
      "Epoch [168/200], Loss: 83427.9062\n",
      "Epoch [169/200], Loss: 53272.7461\n",
      "Epoch [170/200], Loss: 84212.2891\n",
      "Epoch [171/200], Loss: 71085.1641\n",
      "Epoch [172/200], Loss: 71415.9609\n",
      "Epoch [173/200], Loss: 71094.7344\n",
      "Epoch [174/200], Loss: 72473.9453\n",
      "Epoch [175/200], Loss: 57503.5039\n",
      "Epoch [176/200], Loss: 71493.3984\n",
      "Epoch [177/200], Loss: 71196.7422\n",
      "Epoch [178/200], Loss: 61503.1797\n",
      "Epoch [179/200], Loss: 110061.0000\n",
      "Epoch [180/200], Loss: 71224.5625\n",
      "Epoch [181/200], Loss: 85214.3125\n",
      "Epoch [182/200], Loss: 56178.2969\n",
      "Epoch [183/200], Loss: 62273.3203\n",
      "Epoch [184/200], Loss: 60420.6875\n",
      "Epoch [185/200], Loss: 58818.9297\n",
      "Epoch [186/200], Loss: 66280.9766\n",
      "Epoch [187/200], Loss: 82182.1016\n",
      "Epoch [188/200], Loss: 63044.7891\n",
      "Epoch [189/200], Loss: 77905.0000\n",
      "Epoch [190/200], Loss: 70269.8828\n",
      "Epoch [191/200], Loss: 71286.6016\n",
      "Epoch [192/200], Loss: 69348.3828\n",
      "Epoch [193/200], Loss: 46023.9180\n",
      "Epoch [194/200], Loss: 60896.0898\n",
      "Epoch [195/200], Loss: 64454.3242\n",
      "Epoch [196/200], Loss: 77204.4844\n",
      "Epoch [197/200], Loss: 63376.6055\n",
      "Epoch [198/200], Loss: 55972.8086\n",
      "Epoch [199/200], Loss: 69928.0859\n",
      "Epoch [200/200], Loss: 69900.0312\n"
     ]
    }
   ],
   "source": [
    "num_epochs = 200\n",
    "epoch_loss = []\n",
    "for epoch in range(num_epochs):\n",
    "    model.train()\n",
    "    for batch_x, batch_y in train_dl:\n",
    "        optimizer.zero_grad()\n",
    "        outputs = model(batch_x)\n",
    "        loss = loss_function(outputs, batch_y)\n",
    "        loss.backward()\n",
    "        optimizer.step()\n",
    "\n",
    "    print(f'Epoch [{epoch+1}/{num_epochs}], Loss: {loss.item():.4f}')\n",
    "    epoch_loss.append(loss.item())"
   ]
  },
  {
   "cell_type": "code",
   "execution_count": 372,
   "id": "9a4617c2",
   "metadata": {},
   "outputs": [],
   "source": [
    "import matplotlib.pyplot as plt"
   ]
  },
  {
   "cell_type": "code",
   "execution_count": 373,
   "id": "e3ac415a",
   "metadata": {},
   "outputs": [
    {
     "data": {
      "text/plain": [
       "[<matplotlib.lines.Line2D at 0x19292c972c0>]"
      ]
     },
     "execution_count": 373,
     "metadata": {},
     "output_type": "execute_result"
    },
    {
     "data": {
      "image/png": "[encoded data removed]",
      "text/plain": [
       "<Figure size 640x480 with 1 Axes>"
      ]
     },
     "metadata": {},
     "output_type": "display_data"
    }
   ],
   "source": [
    "plt.plot(epoch_loss)"
   ]
  },
  {
   "cell_type": "code",
   "execution_count": 374,
   "id": "bfa82ef4",
   "metadata": {},
   "outputs": [],
   "source": [
    "model.eval()\n",
    "with torch.no_grad():\n",
    "    outputs = model(torch.from_numpy(X_test).float().to(device))\n",
    "    _, y_pred = torch.max(outputs, 1)\n",
    "\n",
    "y_pred = y_pred.to('cpu').numpy()"
   ]
  },
  {
   "cell_type": "markdown",
   "id": "753e182d",
   "metadata": {},
   "source": [
    "## Evaluation on test data"
   ]
  },
  {
   "cell_type": "code",
   "execution_count": 375,
   "id": "2d7d89ea",
   "metadata": {},
   "outputs": [],
   "source": [
    "model.eval()\n",
    "\n",
    "with torch.no_grad():\n",
    "    all_predictions = []\n",
    "    all_labels = []\n",
    "\n",
    "    for batch_x, batch_y in test_dl:\n",
    "        outputs = model(batch_x)\n",
    "        \n",
    "        all_predictions.extend(outputs.cpu().numpy())\n",
    "        all_labels.extend(batch_y.cpu().numpy())\n",
    "\n",
    "all_predictions = np.array(all_predictions)\n",
    "all_labels = np.array(all_labels)"
   ]
  },
  {
   "cell_type": "code",
   "execution_count": 376,
   "id": "45f4659a",
   "metadata": {},
   "outputs": [],
   "source": [
    "from sklearn.metrics import r2_score, mean_absolute_error, mean_squared_error"
   ]
  },
  {
   "cell_type": "code",
   "execution_count": 377,
   "id": "cd8e86cc",
   "metadata": {},
   "outputs": [
    {
     "name": "stdout",
     "output_type": "stream",
     "text": [
      "R2: 0.7175\n",
      "Mean Absolute Error (MAE): 179.0001\n",
      "Mean Squared Error (MSE): 64699.9297\n",
      "Root Mean Squared Error (RMSE): 254.3618\n"
     ]
    }
   ],
   "source": [
    "\n",
    "r2 = r2_score(all_labels, all_predictions)\n",
    "print(f'R2: {r2:.4f}')\n",
    "\n",
    "mae = mean_absolute_error(all_labels, all_predictions)\n",
    "print(f'Mean Absolute Error (MAE): {mae:.4f}')\n",
    "\n",
    "mse = mean_squared_error(all_labels, all_predictions)\n",
    "print(f'Mean Squared Error (MSE): {mse:.4f}')\n",
    "\n",
    "rmse = np.sqrt(mse)\n",
    "print(f'Root Mean Squared Error (RMSE): {rmse:.4f}')"
   ]
  },
  {
   "cell_type": "markdown",
   "id": "6db480c7",
   "metadata": {},
   "source": [
    "## Evaluation on train data\n",
    "If metrics on train >>> than on test => overfitting"
   ]
  },
  {
   "cell_type": "code",
   "execution_count": 378,
   "id": "ec3979d4",
   "metadata": {},
   "outputs": [],
   "source": [
    "model.eval()\n",
    "\n",
    "with torch.no_grad():\n",
    "    all_predictions = []\n",
    "    all_labels = []\n",
    "\n",
    "    for batch_x, batch_y in train_dl:\n",
    "        outputs = model(batch_x)\n",
    "        \n",
    "        all_predictions.extend(outputs.cpu().numpy())\n",
    "        all_labels.extend(batch_y.cpu().numpy())\n",
    "\n",
    "all_predictions = np.array(all_predictions)\n",
    "all_labels = np.array(all_labels)"
   ]
  },
  {
   "cell_type": "code",
   "execution_count": 379,
   "id": "c7590ae5",
   "metadata": {},
   "outputs": [
    {
     "name": "stdout",
     "output_type": "stream",
     "text": [
      "R2: 0.7184\n",
      "Mean Absolute Error (MAE): 179.3792\n",
      "Mean Squared Error (MSE): 65322.0469\n",
      "Root Mean Squared Error (RMSE): 255.5818\n"
     ]
    }
   ],
   "source": [
    "\n",
    "r2 = r2_score(all_labels, all_predictions)\n",
    "print(f'R2: {r2:.4f}')\n",
    "\n",
    "mae = mean_absolute_error(all_labels, all_predictions)\n",
    "print(f'Mean Absolute Error (MAE): {mae:.4f}')\n",
    "\n",
    "mse = mean_squared_error(all_labels, all_predictions)\n",
    "print(f'Mean Squared Error (MSE): {mse:.4f}')\n",
    "\n",
    "rmse = np.sqrt(mse)\n",
    "print(f'Root Mean Squared Error (RMSE): {rmse:.4f}')"
   ]
  }
 ],
 "metadata": {
  "kernelspec": {
   "display_name": "venv",
   "language": "python",
   "name": "python3"
  },
  "language_info": {
   "codemirror_mode": {
    "name": "ipython",
    "version": 3
   },
   "file_extension": ".py",
   "mimetype": "text/x-python",
   "name": "python",
   "nbconvert_exporter": "python",
   "pygments_lexer": "ipython3",
   "version": "3.12.10"
  }
 },
 "nbformat": 4,
 "nbformat_minor": 5
}
